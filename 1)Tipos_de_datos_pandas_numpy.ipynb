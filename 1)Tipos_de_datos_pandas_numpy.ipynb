{
 "cells": [
  {
   "cell_type": "markdown",
   "id": "f2ee1674-e0a1-47b8-8a23-7a67373279cf",
   "metadata": {
    "tags": []
   },
   "source": [
    "# Practica tipos de datos\n"
   ]
  },
  {
   "cell_type": "markdown",
   "id": "33da94bb-452a-45d4-86e9-8d34da4ead10",
   "metadata": {
    "tags": []
   },
   "source": [
    "<h2> Pandas </h2>"
   ]
  },
  {
   "cell_type": "markdown",
   "id": "aa746ada",
   "metadata": {},
   "source": [
    "NumPy es un paquete de Python diseñado para operaciones matemáticas y científicas eficientes. Su estructura principal es el array multidimensional, que permite almacenar y manipular grandes cantidades de datos numéricos. Además, ofrece funciones para álgebra lineal, generación de números aleatorios, estadísticas, y más."
   ]
  },
  {
   "cell_type": "markdown",
   "id": "91ef5009-cf62-4256-949b-38ecdcc06dc3",
   "metadata": {},
   "source": [
    "Las dos estructuras de datos principales en pandas son Series y DataFrames, las cuales permiten manejar y manipular datos tabulares de manera eficiente, incluido leer y escribir archivos desde la memoria con eficiencia. Veamos cómo podemos usar pandas para cargar y tratar datos de un conjunto de datos de cancer de mama."
   ]
  },
  {
   "cell_type": "code",
   "execution_count": 1,
   "id": "5906c60d-af95-4805-a0a4-cc64ad77132e",
   "metadata": {},
   "outputs": [],
   "source": [
    "import pandas as pd\n",
    "\n",
    "breast_cancer = pd.read_csv('data/breast_cancer.csv')"
   ]
  },
  {
   "cell_type": "code",
   "execution_count": 2,
   "id": "5ddf840c-21e6-4b02-a596-0602aeee6861",
   "metadata": {},
   "outputs": [
    {
     "data": {
      "text/html": [
       "<div>\n",
       "<style scoped>\n",
       "    .dataframe tbody tr th:only-of-type {\n",
       "        vertical-align: middle;\n",
       "    }\n",
       "\n",
       "    .dataframe tbody tr th {\n",
       "        vertical-align: top;\n",
       "    }\n",
       "\n",
       "    .dataframe thead th {\n",
       "        text-align: right;\n",
       "    }\n",
       "</style>\n",
       "<table border=\"1\" class=\"dataframe\">\n",
       "  <thead>\n",
       "    <tr style=\"text-align: right;\">\n",
       "      <th></th>\n",
       "      <th>x.radius_mean</th>\n",
       "      <th>x.texture_mean</th>\n",
       "      <th>x.perimeter_mean</th>\n",
       "      <th>x.area_mean</th>\n",
       "      <th>x.smoothness_mean</th>\n",
       "      <th>x.compactness_mean</th>\n",
       "      <th>x.concavity_mean</th>\n",
       "      <th>x.concave_pts_mean</th>\n",
       "      <th>x.symmetry_mean</th>\n",
       "      <th>x.fractal_dim_mean</th>\n",
       "      <th>...</th>\n",
       "      <th>x.texture_worst</th>\n",
       "      <th>x.perimeter_worst</th>\n",
       "      <th>x.area_worst</th>\n",
       "      <th>x.smoothness_worst</th>\n",
       "      <th>x.compactness_worst</th>\n",
       "      <th>x.concavity_worst</th>\n",
       "      <th>x.concave_pts_worst</th>\n",
       "      <th>x.symmetry_worst</th>\n",
       "      <th>x.fractal_dim_worst</th>\n",
       "      <th>y</th>\n",
       "    </tr>\n",
       "  </thead>\n",
       "  <tbody>\n",
       "    <tr>\n",
       "      <th>0</th>\n",
       "      <td>13.540</td>\n",
       "      <td>14.36</td>\n",
       "      <td>87.46</td>\n",
       "      <td>566.3</td>\n",
       "      <td>0.09779</td>\n",
       "      <td>0.08129</td>\n",
       "      <td>0.06664</td>\n",
       "      <td>0.047810</td>\n",
       "      <td>0.1885</td>\n",
       "      <td>0.05766</td>\n",
       "      <td>...</td>\n",
       "      <td>19.26</td>\n",
       "      <td>99.70</td>\n",
       "      <td>711.2</td>\n",
       "      <td>0.14400</td>\n",
       "      <td>0.17730</td>\n",
       "      <td>0.23900</td>\n",
       "      <td>0.12880</td>\n",
       "      <td>0.2977</td>\n",
       "      <td>0.07259</td>\n",
       "      <td>B</td>\n",
       "    </tr>\n",
       "    <tr>\n",
       "      <th>1</th>\n",
       "      <td>13.080</td>\n",
       "      <td>15.71</td>\n",
       "      <td>85.63</td>\n",
       "      <td>520.0</td>\n",
       "      <td>0.10750</td>\n",
       "      <td>0.12700</td>\n",
       "      <td>0.04568</td>\n",
       "      <td>0.031100</td>\n",
       "      <td>0.1967</td>\n",
       "      <td>0.06811</td>\n",
       "      <td>...</td>\n",
       "      <td>20.49</td>\n",
       "      <td>96.09</td>\n",
       "      <td>630.5</td>\n",
       "      <td>0.13120</td>\n",
       "      <td>0.27760</td>\n",
       "      <td>0.18900</td>\n",
       "      <td>0.07283</td>\n",
       "      <td>0.3184</td>\n",
       "      <td>0.08183</td>\n",
       "      <td>B</td>\n",
       "    </tr>\n",
       "    <tr>\n",
       "      <th>2</th>\n",
       "      <td>9.504</td>\n",
       "      <td>12.44</td>\n",
       "      <td>60.34</td>\n",
       "      <td>273.9</td>\n",
       "      <td>0.10240</td>\n",
       "      <td>0.06492</td>\n",
       "      <td>0.02956</td>\n",
       "      <td>0.020760</td>\n",
       "      <td>0.1815</td>\n",
       "      <td>0.06905</td>\n",
       "      <td>...</td>\n",
       "      <td>15.66</td>\n",
       "      <td>65.13</td>\n",
       "      <td>314.9</td>\n",
       "      <td>0.13240</td>\n",
       "      <td>0.11480</td>\n",
       "      <td>0.08867</td>\n",
       "      <td>0.06227</td>\n",
       "      <td>0.2450</td>\n",
       "      <td>0.07773</td>\n",
       "      <td>B</td>\n",
       "    </tr>\n",
       "    <tr>\n",
       "      <th>3</th>\n",
       "      <td>13.030</td>\n",
       "      <td>18.42</td>\n",
       "      <td>82.61</td>\n",
       "      <td>523.8</td>\n",
       "      <td>0.08983</td>\n",
       "      <td>0.03766</td>\n",
       "      <td>0.02562</td>\n",
       "      <td>0.029230</td>\n",
       "      <td>0.1467</td>\n",
       "      <td>0.05863</td>\n",
       "      <td>...</td>\n",
       "      <td>22.81</td>\n",
       "      <td>84.46</td>\n",
       "      <td>545.9</td>\n",
       "      <td>0.09701</td>\n",
       "      <td>0.04619</td>\n",
       "      <td>0.04833</td>\n",
       "      <td>0.05013</td>\n",
       "      <td>0.1987</td>\n",
       "      <td>0.06169</td>\n",
       "      <td>B</td>\n",
       "    </tr>\n",
       "    <tr>\n",
       "      <th>4</th>\n",
       "      <td>8.196</td>\n",
       "      <td>16.84</td>\n",
       "      <td>51.71</td>\n",
       "      <td>201.9</td>\n",
       "      <td>0.08600</td>\n",
       "      <td>0.05943</td>\n",
       "      <td>0.01588</td>\n",
       "      <td>0.005917</td>\n",
       "      <td>0.1769</td>\n",
       "      <td>0.06503</td>\n",
       "      <td>...</td>\n",
       "      <td>21.96</td>\n",
       "      <td>57.26</td>\n",
       "      <td>242.2</td>\n",
       "      <td>0.12970</td>\n",
       "      <td>0.13570</td>\n",
       "      <td>0.06880</td>\n",
       "      <td>0.02564</td>\n",
       "      <td>0.3105</td>\n",
       "      <td>0.07409</td>\n",
       "      <td>B</td>\n",
       "    </tr>\n",
       "    <tr>\n",
       "      <th>...</th>\n",
       "      <td>...</td>\n",
       "      <td>...</td>\n",
       "      <td>...</td>\n",
       "      <td>...</td>\n",
       "      <td>...</td>\n",
       "      <td>...</td>\n",
       "      <td>...</td>\n",
       "      <td>...</td>\n",
       "      <td>...</td>\n",
       "      <td>...</td>\n",
       "      <td>...</td>\n",
       "      <td>...</td>\n",
       "      <td>...</td>\n",
       "      <td>...</td>\n",
       "      <td>...</td>\n",
       "      <td>...</td>\n",
       "      <td>...</td>\n",
       "      <td>...</td>\n",
       "      <td>...</td>\n",
       "      <td>...</td>\n",
       "      <td>...</td>\n",
       "    </tr>\n",
       "    <tr>\n",
       "      <th>564</th>\n",
       "      <td>20.920</td>\n",
       "      <td>25.09</td>\n",
       "      <td>143.00</td>\n",
       "      <td>1347.0</td>\n",
       "      <td>0.10990</td>\n",
       "      <td>0.22360</td>\n",
       "      <td>0.31740</td>\n",
       "      <td>0.147400</td>\n",
       "      <td>0.2149</td>\n",
       "      <td>0.06879</td>\n",
       "      <td>...</td>\n",
       "      <td>29.41</td>\n",
       "      <td>179.10</td>\n",
       "      <td>1819.0</td>\n",
       "      <td>0.14070</td>\n",
       "      <td>0.41860</td>\n",
       "      <td>0.65990</td>\n",
       "      <td>0.25420</td>\n",
       "      <td>0.2929</td>\n",
       "      <td>0.09873</td>\n",
       "      <td>M</td>\n",
       "    </tr>\n",
       "    <tr>\n",
       "      <th>565</th>\n",
       "      <td>21.560</td>\n",
       "      <td>22.39</td>\n",
       "      <td>142.00</td>\n",
       "      <td>1479.0</td>\n",
       "      <td>0.11100</td>\n",
       "      <td>0.11590</td>\n",
       "      <td>0.24390</td>\n",
       "      <td>0.138900</td>\n",
       "      <td>0.1726</td>\n",
       "      <td>0.05623</td>\n",
       "      <td>...</td>\n",
       "      <td>26.40</td>\n",
       "      <td>166.10</td>\n",
       "      <td>2027.0</td>\n",
       "      <td>0.14100</td>\n",
       "      <td>0.21130</td>\n",
       "      <td>0.41070</td>\n",
       "      <td>0.22160</td>\n",
       "      <td>0.2060</td>\n",
       "      <td>0.07115</td>\n",
       "      <td>M</td>\n",
       "    </tr>\n",
       "    <tr>\n",
       "      <th>566</th>\n",
       "      <td>20.130</td>\n",
       "      <td>28.25</td>\n",
       "      <td>131.20</td>\n",
       "      <td>1261.0</td>\n",
       "      <td>0.09780</td>\n",
       "      <td>0.10340</td>\n",
       "      <td>0.14400</td>\n",
       "      <td>0.097910</td>\n",
       "      <td>0.1752</td>\n",
       "      <td>0.05533</td>\n",
       "      <td>...</td>\n",
       "      <td>38.25</td>\n",
       "      <td>155.00</td>\n",
       "      <td>1731.0</td>\n",
       "      <td>0.11660</td>\n",
       "      <td>0.19220</td>\n",
       "      <td>0.32150</td>\n",
       "      <td>0.16280</td>\n",
       "      <td>0.2572</td>\n",
       "      <td>0.06637</td>\n",
       "      <td>M</td>\n",
       "    </tr>\n",
       "    <tr>\n",
       "      <th>567</th>\n",
       "      <td>16.600</td>\n",
       "      <td>28.08</td>\n",
       "      <td>108.30</td>\n",
       "      <td>858.1</td>\n",
       "      <td>0.08455</td>\n",
       "      <td>0.10230</td>\n",
       "      <td>0.09251</td>\n",
       "      <td>0.053020</td>\n",
       "      <td>0.1590</td>\n",
       "      <td>0.05648</td>\n",
       "      <td>...</td>\n",
       "      <td>34.12</td>\n",
       "      <td>126.70</td>\n",
       "      <td>1124.0</td>\n",
       "      <td>0.11390</td>\n",
       "      <td>0.30940</td>\n",
       "      <td>0.34030</td>\n",
       "      <td>0.14180</td>\n",
       "      <td>0.2218</td>\n",
       "      <td>0.07820</td>\n",
       "      <td>M</td>\n",
       "    </tr>\n",
       "    <tr>\n",
       "      <th>568</th>\n",
       "      <td>20.600</td>\n",
       "      <td>29.33</td>\n",
       "      <td>140.10</td>\n",
       "      <td>1265.0</td>\n",
       "      <td>0.11780</td>\n",
       "      <td>0.27700</td>\n",
       "      <td>0.35140</td>\n",
       "      <td>0.152000</td>\n",
       "      <td>0.2397</td>\n",
       "      <td>0.07016</td>\n",
       "      <td>...</td>\n",
       "      <td>39.42</td>\n",
       "      <td>184.60</td>\n",
       "      <td>1821.0</td>\n",
       "      <td>0.16500</td>\n",
       "      <td>0.86810</td>\n",
       "      <td>0.93870</td>\n",
       "      <td>0.26500</td>\n",
       "      <td>0.4087</td>\n",
       "      <td>0.12400</td>\n",
       "      <td>M</td>\n",
       "    </tr>\n",
       "  </tbody>\n",
       "</table>\n",
       "<p>569 rows × 31 columns</p>\n",
       "</div>"
      ],
      "text/plain": [
       "     x.radius_mean  x.texture_mean  x.perimeter_mean  x.area_mean  \\\n",
       "0           13.540           14.36             87.46        566.3   \n",
       "1           13.080           15.71             85.63        520.0   \n",
       "2            9.504           12.44             60.34        273.9   \n",
       "3           13.030           18.42             82.61        523.8   \n",
       "4            8.196           16.84             51.71        201.9   \n",
       "..             ...             ...               ...          ...   \n",
       "564         20.920           25.09            143.00       1347.0   \n",
       "565         21.560           22.39            142.00       1479.0   \n",
       "566         20.130           28.25            131.20       1261.0   \n",
       "567         16.600           28.08            108.30        858.1   \n",
       "568         20.600           29.33            140.10       1265.0   \n",
       "\n",
       "     x.smoothness_mean  x.compactness_mean  x.concavity_mean  \\\n",
       "0              0.09779             0.08129           0.06664   \n",
       "1              0.10750             0.12700           0.04568   \n",
       "2              0.10240             0.06492           0.02956   \n",
       "3              0.08983             0.03766           0.02562   \n",
       "4              0.08600             0.05943           0.01588   \n",
       "..                 ...                 ...               ...   \n",
       "564            0.10990             0.22360           0.31740   \n",
       "565            0.11100             0.11590           0.24390   \n",
       "566            0.09780             0.10340           0.14400   \n",
       "567            0.08455             0.10230           0.09251   \n",
       "568            0.11780             0.27700           0.35140   \n",
       "\n",
       "     x.concave_pts_mean  x.symmetry_mean  x.fractal_dim_mean  ...  \\\n",
       "0              0.047810           0.1885             0.05766  ...   \n",
       "1              0.031100           0.1967             0.06811  ...   \n",
       "2              0.020760           0.1815             0.06905  ...   \n",
       "3              0.029230           0.1467             0.05863  ...   \n",
       "4              0.005917           0.1769             0.06503  ...   \n",
       "..                  ...              ...                 ...  ...   \n",
       "564            0.147400           0.2149             0.06879  ...   \n",
       "565            0.138900           0.1726             0.05623  ...   \n",
       "566            0.097910           0.1752             0.05533  ...   \n",
       "567            0.053020           0.1590             0.05648  ...   \n",
       "568            0.152000           0.2397             0.07016  ...   \n",
       "\n",
       "     x.texture_worst  x.perimeter_worst  x.area_worst  x.smoothness_worst  \\\n",
       "0              19.26              99.70         711.2             0.14400   \n",
       "1              20.49              96.09         630.5             0.13120   \n",
       "2              15.66              65.13         314.9             0.13240   \n",
       "3              22.81              84.46         545.9             0.09701   \n",
       "4              21.96              57.26         242.2             0.12970   \n",
       "..               ...                ...           ...                 ...   \n",
       "564            29.41             179.10        1819.0             0.14070   \n",
       "565            26.40             166.10        2027.0             0.14100   \n",
       "566            38.25             155.00        1731.0             0.11660   \n",
       "567            34.12             126.70        1124.0             0.11390   \n",
       "568            39.42             184.60        1821.0             0.16500   \n",
       "\n",
       "     x.compactness_worst  x.concavity_worst  x.concave_pts_worst  \\\n",
       "0                0.17730            0.23900              0.12880   \n",
       "1                0.27760            0.18900              0.07283   \n",
       "2                0.11480            0.08867              0.06227   \n",
       "3                0.04619            0.04833              0.05013   \n",
       "4                0.13570            0.06880              0.02564   \n",
       "..                   ...                ...                  ...   \n",
       "564              0.41860            0.65990              0.25420   \n",
       "565              0.21130            0.41070              0.22160   \n",
       "566              0.19220            0.32150              0.16280   \n",
       "567              0.30940            0.34030              0.14180   \n",
       "568              0.86810            0.93870              0.26500   \n",
       "\n",
       "     x.symmetry_worst  x.fractal_dim_worst  y  \n",
       "0              0.2977              0.07259  B  \n",
       "1              0.3184              0.08183  B  \n",
       "2              0.2450              0.07773  B  \n",
       "3              0.1987              0.06169  B  \n",
       "4              0.3105              0.07409  B  \n",
       "..                ...                  ... ..  \n",
       "564            0.2929              0.09873  M  \n",
       "565            0.2060              0.07115  M  \n",
       "566            0.2572              0.06637  M  \n",
       "567            0.2218              0.07820  M  \n",
       "568            0.4087              0.12400  M  \n",
       "\n",
       "[569 rows x 31 columns]"
      ]
     },
     "execution_count": 2,
     "metadata": {},
     "output_type": "execute_result"
    }
   ],
   "source": [
    "breast_cancer"
   ]
  },
  {
   "cell_type": "markdown",
   "id": "8fb425bc-9070-43a7-8efd-4f748c66153c",
   "metadata": {},
   "source": [
    "Cada fila en la tabla es una observación, y cada columna es una característica. En nuestro ejemplo, las columnas representan características de los núcleos de celulas tumorales. La última columna representa el objetivo: 'M' significa que la observación corresponde a un tumor maligno, mientras que 'B' indica que el tumor es benigno."
   ]
  },
  {
   "cell_type": "code",
   "execution_count": 3,
   "id": "1b8d8249-8269-46c4-9ae9-3dff1fcf76d7",
   "metadata": {},
   "outputs": [
    {
     "data": {
      "text/plain": [
       "Index(['x.radius_mean', 'x.texture_mean', 'x.perimeter_mean', 'x.area_mean',\n",
       "       'x.smoothness_mean', 'x.compactness_mean', 'x.concavity_mean',\n",
       "       'x.concave_pts_mean', 'x.symmetry_mean', 'x.fractal_dim_mean',\n",
       "       'x.radius_se', 'x.texture_se', 'x.perimeter_se', 'x.area_se',\n",
       "       'x.smoothness_se', 'x.compactness_se', 'x.concavity_se',\n",
       "       'x.concave_pts_se', 'x.symmetry_se', 'x.fractal_dim_se',\n",
       "       'x.radius_worst', 'x.texture_worst', 'x.perimeter_worst',\n",
       "       'x.area_worst', 'x.smoothness_worst', 'x.compactness_worst',\n",
       "       'x.concavity_worst', 'x.concave_pts_worst', 'x.symmetry_worst',\n",
       "       'x.fractal_dim_worst', 'y'],\n",
       "      dtype='object')"
      ]
     },
     "execution_count": 3,
     "metadata": {},
     "output_type": "execute_result"
    }
   ],
   "source": [
    "breast_cancer.columns"
   ]
  },
  {
   "cell_type": "markdown",
   "id": "ab4be706",
   "metadata": {},
   "source": [
    "<h3> Exploración de datos </h3>"
   ]
  },
  {
   "cell_type": "code",
   "execution_count": 4,
   "id": "67396794",
   "metadata": {},
   "outputs": [
    {
     "name": "stdout",
     "output_type": "stream",
     "text": [
      "Número de filas y columnas: (569, 31)\n",
      "Primeras 5 filas del dataset:\n",
      "   x.radius_mean  x.texture_mean  x.perimeter_mean  x.area_mean  \\\n",
      "0         13.540           14.36             87.46        566.3   \n",
      "1         13.080           15.71             85.63        520.0   \n",
      "2          9.504           12.44             60.34        273.9   \n",
      "3         13.030           18.42             82.61        523.8   \n",
      "4          8.196           16.84             51.71        201.9   \n",
      "\n",
      "   x.smoothness_mean  x.compactness_mean  x.concavity_mean  \\\n",
      "0            0.09779             0.08129           0.06664   \n",
      "1            0.10750             0.12700           0.04568   \n",
      "2            0.10240             0.06492           0.02956   \n",
      "3            0.08983             0.03766           0.02562   \n",
      "4            0.08600             0.05943           0.01588   \n",
      "\n",
      "   x.concave_pts_mean  x.symmetry_mean  x.fractal_dim_mean  ...  \\\n",
      "0            0.047810           0.1885             0.05766  ...   \n",
      "1            0.031100           0.1967             0.06811  ...   \n",
      "2            0.020760           0.1815             0.06905  ...   \n",
      "3            0.029230           0.1467             0.05863  ...   \n",
      "4            0.005917           0.1769             0.06503  ...   \n",
      "\n",
      "   x.texture_worst  x.perimeter_worst  x.area_worst  x.smoothness_worst  \\\n",
      "0            19.26              99.70         711.2             0.14400   \n",
      "1            20.49              96.09         630.5             0.13120   \n",
      "2            15.66              65.13         314.9             0.13240   \n",
      "3            22.81              84.46         545.9             0.09701   \n",
      "4            21.96              57.26         242.2             0.12970   \n",
      "\n",
      "   x.compactness_worst  x.concavity_worst  x.concave_pts_worst  \\\n",
      "0              0.17730            0.23900              0.12880   \n",
      "1              0.27760            0.18900              0.07283   \n",
      "2              0.11480            0.08867              0.06227   \n",
      "3              0.04619            0.04833              0.05013   \n",
      "4              0.13570            0.06880              0.02564   \n",
      "\n",
      "   x.symmetry_worst  x.fractal_dim_worst  y  \n",
      "0            0.2977              0.07259  B  \n",
      "1            0.3184              0.08183  B  \n",
      "2            0.2450              0.07773  B  \n",
      "3            0.1987              0.06169  B  \n",
      "4            0.3105              0.07409  B  \n",
      "\n",
      "[5 rows x 31 columns]\n",
      "Tipos de datos de las columnas:\n",
      "x.radius_mean          float64\n",
      "x.texture_mean         float64\n",
      "x.perimeter_mean       float64\n",
      "x.area_mean            float64\n",
      "x.smoothness_mean      float64\n",
      "x.compactness_mean     float64\n",
      "x.concavity_mean       float64\n",
      "x.concave_pts_mean     float64\n",
      "x.symmetry_mean        float64\n",
      "x.fractal_dim_mean     float64\n",
      "x.radius_se            float64\n",
      "x.texture_se           float64\n",
      "x.perimeter_se         float64\n",
      "x.area_se              float64\n",
      "x.smoothness_se        float64\n",
      "x.compactness_se       float64\n",
      "x.concavity_se         float64\n",
      "x.concave_pts_se       float64\n",
      "x.symmetry_se          float64\n",
      "x.fractal_dim_se       float64\n",
      "x.radius_worst         float64\n",
      "x.texture_worst        float64\n",
      "x.perimeter_worst      float64\n",
      "x.area_worst           float64\n",
      "x.smoothness_worst     float64\n",
      "x.compactness_worst    float64\n",
      "x.concavity_worst      float64\n",
      "x.concave_pts_worst    float64\n",
      "x.symmetry_worst       float64\n",
      "x.fractal_dim_worst    float64\n",
      "y                       object\n",
      "dtype: object\n",
      "Valores únicos en 'y': ['B' 'M']\n",
      "y\n",
      "B    357\n",
      "M    212\n",
      "Name: count, dtype: int64\n"
     ]
    }
   ],
   "source": [
    "# Exploración inicial del dataset\n",
    "print(\"Número de filas y columnas:\", breast_cancer.shape)  # Tamaño del dataset\n",
    "print(\"Primeras 5 filas del dataset:\")\n",
    "print(breast_cancer.head())  # Muestra las primeras 5 filas\n",
    "\n",
    "# Verificar los tipos de datos en las columnas\n",
    "print(\"Tipos de datos de las columnas:\")\n",
    "print(breast_cancer.dtypes)\n",
    "\n",
    "# Cambiar los nombres de las columnas para que sean más legibles\n",
    "breast_cancer.columns = breast_cancer.columns.str.replace('x.', '', regex=False)\n",
    "\n",
    "# Cuántos valores únicos tiene la columna objetivo ('y')\n",
    "valores_unicos = breast_cancer['y'].unique()\n",
    "print(\"Valores únicos en 'y':\", valores_unicos)\n",
    "\n",
    "# Contaje de valores únicos que tiene la columna objetivo ('y')\n",
    "print(breast_cancer['y'].value_counts())"
   ]
  },
  {
   "cell_type": "markdown",
   "id": "4b1a6446",
   "metadata": {},
   "source": [
    "<h3> Filtrado y transformación de datos </h3>"
   ]
  },
  {
   "cell_type": "code",
   "execution_count": 5,
   "id": "e3cf95e7",
   "metadata": {},
   "outputs": [
    {
     "name": "stdout",
     "output_type": "stream",
     "text": [
      "Número de tumores malignos: 212\n",
      "Primeras 5 filas con la nueva columna:\n",
      "     area_mean  perimeter_mean  area_perimeter_ratio\n",
      "357     1001.0          122.80              8.151466\n",
      "358     1326.0          132.90              9.977427\n",
      "359     1203.0          130.00              9.253846\n",
      "360      386.1           77.58              4.976798\n",
      "361     1297.0          135.10              9.600296\n"
     ]
    }
   ],
   "source": [
    "# Filtrar datos: Crear un subconjunto con solo los tumores malignos\n",
    "malignos = breast_cancer[breast_cancer['y'] == 'M'].copy()\n",
    "print(\"Número de tumores malignos:\", len(malignos))\n",
    "\n",
    "# Ejemplo de uso de funciones lambda para transformar datos\n",
    "# Agregar una columna con la relación entre el área y el perímetro\n",
    "malignos['area_perimeter_ratio'] = malignos.apply(\n",
    "    lambda row: row['area_mean'] / row['perimeter_mean'] if row['perimeter_mean'] != 0 else 0, axis=1\n",
    ")\n",
    "print(\"Primeras 5 filas con la nueva columna:\")\n",
    "print(malignos[['area_mean', 'perimeter_mean', 'area_perimeter_ratio']].head())"
   ]
  },
  {
   "cell_type": "code",
   "execution_count": 9,
   "id": "b63b5520",
   "metadata": {},
   "outputs": [
    {
     "name": "stdout",
     "output_type": "stream",
     "text": [
      "     area_mean size_category\n",
      "357     1001.0           big\n",
      "358     1326.0           big\n",
      "359     1203.0           big\n",
      "360      386.1         small\n",
      "361     1297.0           big\n"
     ]
    },
    {
     "data": {
      "text/plain": [
       "size_category\n",
       "big      162\n",
       "small     50\n",
       "Name: count, dtype: int64"
      ]
     },
     "execution_count": 9,
     "metadata": {},
     "output_type": "execute_result"
    }
   ],
   "source": [
    "# Función lambda para clasificar tumores como 'grandes' o 'pequeños'\n",
    "# basado en si su área promedio ('area_mean') es mayor o menor que 700\n",
    "malignos['size_category'] = malignos['area_perimeter_ratio'].apply(\n",
    "    lambda area: 'big' if area > 7 else 'small'\n",
    ")\n",
    "print(malignos[['area_mean', 'size_category']].head())\n",
    "\n",
    "malignos['size_category'].value_counts()"
   ]
  },
  {
   "cell_type": "markdown",
   "id": "29742320",
   "metadata": {},
   "source": [
    "<h2> Numpy </h2>"
   ]
  },
  {
   "cell_type": "markdown",
   "id": "490753bf",
   "metadata": {},
   "source": [
    "NumPy es un paquete de Python diseñado para operaciones matemáticas y científicas eficientes. Su estructura principal es el array multidimensional, que permite almacenar y manipular grandes cantidades de datos numéricos. Además, ofrece funciones para álgebra lineal, generación de números aleatorios, estadísticas, y más."
   ]
  },
  {
   "cell_type": "code",
   "execution_count": null,
   "id": "f8008dd3",
   "metadata": {},
   "outputs": [],
   "source": [
    "import numpy as np"
   ]
  },
  {
   "cell_type": "markdown",
   "id": "a1e4479f",
   "metadata": {},
   "source": [
    "### Arrays unidimensionales\n",
    "\n",
    "Un array unidimensional en Numpy es una secuencia de elementos del mismo tipo."
   ]
  },
  {
   "cell_type": "code",
   "execution_count": null,
   "id": "5ce33668",
   "metadata": {},
   "outputs": [],
   "source": [
    "mi_array = np.array([3, 4, 5], dtype=np.int16)\n",
    "print(mi_array.dtype)"
   ]
  },
  {
   "cell_type": "markdown",
   "id": "4d5261ef",
   "metadata": {},
   "source": [
    "Dentro de numpy hay diferentes tipos basicos aparte de `int` y `float`.\n",
    "\n",
    "- `int16`: Enteros de 16 bits (-32,768 a 32,767).\n",
    "- `int32`: Enteros de 32 bits (-2,000 millones a 2,000 millones). Equivalente a `int`.\n",
    "- `int64`: Enteros de 64 bits (-9 quintillones a 9 quintillones). Equivalente a `int`.\n",
    "- `float16`/`float32`/`float64`: Decimales de baja, media y alta precisión."
   ]
  },
  {
   "cell_type": "markdown",
   "id": "922a4529",
   "metadata": {},
   "source": [
    "### Indexación y slicing\n",
    "\n",
    "Accede a elementos individuales o grupos con índices."
   ]
  },
  {
   "cell_type": "code",
   "execution_count": null,
   "id": "ac85db83",
   "metadata": {},
   "outputs": [],
   "source": [
    "mi_array = np.array([3, 4, 5, 6, 7])\n",
    "print(mi_array[0])       # Primer elemento\n",
    "print(mi_array[-1])      # Último elemento\n",
    "print(mi_array[1:4])     # Subarray: [4, 5, 6]"
   ]
  },
  {
   "cell_type": "markdown",
   "id": "00028a04",
   "metadata": {},
   "source": [
    "### Arrays multidimensionales\n",
    "\n",
    "Matrices en Numpy permiten trabajar con múltiples dimensiones."
   ]
  },
  {
   "cell_type": "code",
   "execution_count": 21,
   "id": "481317bf",
   "metadata": {},
   "outputs": [
    {
     "name": "stdout",
     "output_type": "stream",
     "text": [
      "6\n",
      "[2 5 8]\n"
     ]
    }
   ],
   "source": [
    "mi_matriz = np.array([[1, 2, 3], [4, 5, 6], [7, 8, 9]])\n",
    "print(mi_matriz[1, 2])  # Elemento en fila 2, columna 3\n",
    "print(mi_matriz[:, 1])  # Segunda columna"
   ]
  },
  {
   "cell_type": "markdown",
   "id": "1ba8b7e3",
   "metadata": {},
   "source": [
    "### Dimensiones\n",
    "\n",
    "Verifica las dimensiones con `.shape` y `.ndim`."
   ]
  },
  {
   "cell_type": "code",
   "execution_count": 22,
   "id": "d0e4cc7a",
   "metadata": {},
   "outputs": [
    {
     "name": "stdout",
     "output_type": "stream",
     "text": [
      "(3, 3)\n",
      "2\n"
     ]
    }
   ],
   "source": [
    "print(mi_matriz.shape)  # (3, 3): 3 filas y 3 columnas\n",
    "print(mi_matriz.ndim)   # 2: dos dimensiones"
   ]
  },
  {
   "cell_type": "markdown",
   "id": "86e2c0d2",
   "metadata": {},
   "source": [
    "### Crear arrays\n",
    "\n",
    "Crea arrays de ceros, unos o valores espaciados."
   ]
  },
  {
   "cell_type": "code",
   "execution_count": 23,
   "id": "5741adca",
   "metadata": {},
   "outputs": [
    {
     "name": "stdout",
     "output_type": "stream",
     "text": [
      "[0. 0. 0. 0. 0.]\n",
      "[[1. 1. 1.]\n",
      " [1. 1. 1.]]\n",
      "[0 2 4 6 8]\n"
     ]
    }
   ],
   "source": [
    "print(np.zeros(5))  # Array de ceros\n",
    "print(np.ones((2, 3)))  # Matriz 2x3 de unos\n",
    "print(np.arange(0, 10, 2))  # Valores de 0 a 10, paso 2"
   ]
  },
  {
   "cell_type": "markdown",
   "id": "2c99f8ab",
   "metadata": {},
   "source": [
    "### Operaciones básicas con arrays\n",
    "\n",
    "Realiza operaciones matemáticas directamente."
   ]
  },
  {
   "cell_type": "code",
   "execution_count": 25,
   "id": "990881d4",
   "metadata": {},
   "outputs": [
    {
     "name": "stdout",
     "output_type": "stream",
     "text": [
      "[11 12 13]\n",
      "[2 4 6]\n"
     ]
    }
   ],
   "source": [
    "arr = np.array([1, 2, 3])\n",
    "print(arr + 10)  # Suma 10 a cada elemento\n",
    "print(arr * 2)   # Multiplica cada elemento por 2"
   ]
  },
  {
   "cell_type": "markdown",
   "id": "4dfa87c6",
   "metadata": {},
   "source": [
    "### Arrays booleanos\n",
    "\n",
    "Utiliza condiciones para filtrar valores como mascaras."
   ]
  },
  {
   "cell_type": "code",
   "execution_count": null,
   "id": "649eb449",
   "metadata": {},
   "outputs": [],
   "source": [
    "arr = np.array([1, 2, 3, 4])\n",
    "mascara = arr > 2\n",
    "print(arr[mascara])  # Elementos mayores a 2: [3, 4]"
   ]
  },
  {
   "cell_type": "markdown",
   "id": "b7e157ba",
   "metadata": {},
   "source": [
    "### Universal Functions (ufuncs)\n",
    "\n",
    "Operan de forma eficiente gracias a las estructuras internas. SON UN EJEMPLO DE PROGRAMACIÓN FUNCIONAL"
   ]
  },
  {
   "cell_type": "markdown",
   "id": "c73524a9",
   "metadata": {},
   "source": [
    "#### Operaciones matriciales con broadcasting\n",
    "\n",
    "La difusión (\"broadcasting\") se refiere a cómo numpy maneja arreglos con diferentes dimensiones durante las operaciones aritméticas, lo que implica ciertas restricciones. El arreglo más pequeño se expande automáticamente para coincidir con la forma del arreglo más grande, de manera que sean compatibles."
   ]
  },
  {
   "cell_type": "code",
   "execution_count": null,
   "id": "b54a5953",
   "metadata": {},
   "outputs": [],
   "source": [
    "# Crear un array de ejemplo\n",
    "arr = np.array([1, 2, 3, 4, 5])\n",
    "\n",
    "# Sumar un número a cada elemento\n",
    "resultado_suma = np.add(arr, 10)\n",
    "print(\"Resultado de la suma:\", resultado_suma)\n",
    "\n",
    "# Restar un número a cada elemento\n",
    "resultado_resta = np.subtract(arr, 3)\n",
    "print(\"Resultado de la resta:\", resultado_resta)\n",
    "\n",
    "# Multiplicar cada elemento por un número\n",
    "resultado_multiplicación = np.multiply(arr, 2)\n",
    "print(\"Resultado de la multiplicación:\", resultado_multiplicación)\n",
    "\n",
    "# Dividir cada elemento por un número\n",
    "resultado_división = np.divide(arr, 2)\n",
    "print(\"Resultado de la división:\", resultado_división)"
   ]
  },
  {
   "cell_type": "markdown",
   "id": "5b7e937b",
   "metadata": {},
   "source": [
    "#### Calculo de estadísticas básicas."
   ]
  },
  {
   "cell_type": "code",
   "execution_count": 24,
   "id": "6feee88e",
   "metadata": {},
   "outputs": [
    {
     "name": "stdout",
     "output_type": "stream",
     "text": [
      "Primeros 5 valores del perímetro (NumPy Array): [87.46 85.63 60.34 82.61 51.71]\n",
      "Media del perímetro: 91.97\n",
      "Mediana del perímetro: 86.24\n",
      "Desviación estándar del perímetro: 24.28\n",
      "Primeros 5 valores del área normalizada: [0.17934252 0.15970308 0.05531283 0.16131495 0.024772  ]\n"
     ]
    }
   ],
   "source": [
    "# Convertir una columna a un array de NumPy\n",
    "perimeter_array = breast_cancer['perimeter_mean'].values\n",
    "print(\"Primeros 5 valores del perímetro (NumPy Array):\", perimeter_array[:5])\n",
    "\n",
    "# Operaciones numéricas: Calcular la media, mediana y desviación estándar del perímetro\n",
    "media_perimeter = np.mean(perimeter_array)\n",
    "mediana_perimeter = np.median(perimeter_array)\n",
    "desviacion_perimeter = np.std(perimeter_array)\n",
    "\n",
    "print(f\"Media del perímetro: {media_perimeter:.2f}\")\n",
    "print(f\"Mediana del perímetro: {mediana_perimeter:.2f}\")\n",
    "print(f\"Desviación estándar del perímetro: {desviacion_perimeter:.2f}\")\n",
    "\n",
    "# Normaliza los valores de la columna 'area_mean' (escala de 0 a 1)\n",
    "area_array = breast_cancer['area_mean'].values\n",
    "area_normalizada = (area_array - np.min(area_array)) / (np.max(area_array) - np.min(area_array))\n",
    "print(\"Primeros 5 valores del área normalizada:\", area_normalizada[:5])"
   ]
  },
  {
   "cell_type": "code",
   "execution_count": null,
   "id": "d59088a4",
   "metadata": {},
   "outputs": [],
   "source": []
  }
 ],
 "metadata": {
  "kernelspec": {
   "display_name": "Python 3 (ipykernel)",
   "language": "python",
   "name": "python3"
  },
  "language_info": {
   "codemirror_mode": {
    "name": "ipython",
    "version": 3
   },
   "file_extension": ".py",
   "mimetype": "text/x-python",
   "name": "python",
   "nbconvert_exporter": "python",
   "pygments_lexer": "ipython3",
   "version": "3.10.13"
  },
  "toc": {
   "base_numbering": 1,
   "nav_menu": {},
   "number_sections": true,
   "sideBar": true,
   "skip_h1_title": false,
   "title_cell": "Table of Contents",
   "title_sidebar": "Contents",
   "toc_cell": false,
   "toc_position": {},
   "toc_section_display": true,
   "toc_window_display": false
  }
 },
 "nbformat": 4,
 "nbformat_minor": 5
}
